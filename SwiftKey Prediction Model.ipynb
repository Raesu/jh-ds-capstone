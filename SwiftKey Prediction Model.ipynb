{
 "cells": [
  {
   "cell_type": "code",
   "execution_count": 6,
   "metadata": {},
   "outputs": [
    {
     "name": "stdout",
     "output_type": "stream",
     "text": [
      "── \u001b[1mAttaching core tidyverse packages\u001b[22m ─────────────────────────────────────────────────────────── tidyverse 2.0.0 ──\n",
      "\u001b[32m✔\u001b[39m \u001b[34mdplyr    \u001b[39m 1.1.4     \u001b[32m✔\u001b[39m \u001b[34mreadr    \u001b[39m 2.1.5\n",
      "\u001b[32m✔\u001b[39m \u001b[34mforcats  \u001b[39m 1.0.0     \u001b[32m✔\u001b[39m \u001b[34mstringr  \u001b[39m 1.5.1\n",
      "\u001b[32m✔\u001b[39m \u001b[34mggplot2  \u001b[39m 3.5.1     \u001b[32m✔\u001b[39m \u001b[34mtibble   \u001b[39m 3.2.1\n",
      "\u001b[32m✔\u001b[39m \u001b[34mlubridate\u001b[39m 1.9.3     \u001b[32m✔\u001b[39m \u001b[34mtidyr    \u001b[39m 1.3.1\n",
      "\u001b[32m✔\u001b[39m \u001b[34mpurrr    \u001b[39m 1.0.2     \n",
      "── \u001b[1mConflicts\u001b[22m ───────────────────────────────────────────────────────────────────────────── tidyverse_conflicts() ──\n",
      "\u001b[31m✖\u001b[39m \u001b[34mdplyr\u001b[39m::\u001b[32mfilter()\u001b[39m masks \u001b[34mstats\u001b[39m::filter()\n",
      "\u001b[31m✖\u001b[39m \u001b[34mdplyr\u001b[39m::\u001b[32mlag()\u001b[39m    masks \u001b[34mstats\u001b[39m::lag()\n",
      "\u001b[36mℹ\u001b[39m Use the \u001b]8;;http://conflicted.r-lib.org/\u0007conflicted package\u001b]8;;\u0007 to force all conflicts to become errors\n"
     ]
    }
   ],
   "source": [
    "library(tidyverse)\n",
    "library(tidytext)"
   ]
  },
  {
   "cell_type": "markdown",
   "metadata": {},
   "source": [
    "### Get and Clean Data"
   ]
  },
  {
   "cell_type": "code",
   "execution_count": 48,
   "metadata": {},
   "outputs": [
    {
     "data": {
      "text/plain": [
       "[1] 205.8119"
      ]
     },
     "execution_count": null,
     "metadata": {},
     "output_type": "execute_result"
    }
   ],
   "source": [
    "# Size in mb\n",
    "file.size('data/en_US.news.txt')/1000/1000"
   ]
  },
  {
   "cell_type": "code",
   "execution_count": 78,
   "metadata": {},
   "outputs": [
    {
     "data": {
      "text/plain": [
       "\u001b[38;5;246m# A tibble: 3 × 1\u001b[39m\n",
       "  text                                                                          \n",
       "  \u001b[3m\u001b[38;5;246m<chr>\u001b[39m\u001b[23m                                                                         \n",
       "\u001b[38;5;250m1\u001b[39m He wasn't home alone, apparently.                                             \n",
       "\u001b[38;5;250m2\u001b[39m The St. Louis plant had to close. It would die of old age. Workers had been m…\n",
       "\u001b[38;5;250m3\u001b[39m WSU's plans quickly became a hot topic on local online sites. Though most peo…"
      ]
     },
     "execution_count": null,
     "metadata": {},
     "output_type": "execute_result"
    }
   ],
   "source": [
    "# Blogs\n",
    "blogs <- read_lines('data/en_US.news.txt') |> tibble(text = _)\n",
    "blogs[1:3,]"
   ]
  },
  {
   "cell_type": "code",
   "execution_count": 79,
   "metadata": {},
   "outputs": [
    {
     "data": {
      "text/plain": [
       "\u001b[38;5;246m# A tibble: 3 × 1\u001b[39m\n",
       "  text                                                                          \n",
       "  \u001b[3m\u001b[38;5;246m<chr>\u001b[39m\u001b[23m                                                                         \n",
       "\u001b[38;5;250m1\u001b[39m He wasn't home alone, apparently.                                             \n",
       "\u001b[38;5;250m2\u001b[39m The St. Louis plant had to close. It would die of old age. Workers had been m…\n",
       "\u001b[38;5;250m3\u001b[39m WSU's plans quickly became a hot topic on local online sites. Though most peo…"
      ]
     },
     "execution_count": null,
     "metadata": {},
     "output_type": "execute_result"
    }
   ],
   "source": [
    "# News\n",
    "news <- read_lines('data/en_US.news.txt') |> tibble(text = _)\n",
    "news[1:3,]"
   ]
  },
  {
   "cell_type": "code",
   "execution_count": 80,
   "metadata": {},
   "outputs": [
    {
     "name": "stderr",
     "output_type": "stream",
     "text": [
      "Warning message:\n",
      "\u001b[1m\u001b[22mOne or more parsing issues, call `problems()` on your data frame for details,\n",
      "e.g.:\n",
      "  dat <- vroom(...)\n",
      "  problems(dat) \n"
     ]
    },
    {
     "data": {
      "text/plain": [
       "\u001b[38;5;246m# A tibble: 3 × 1\u001b[39m\n",
       "  text                                                                          \n",
       "  \u001b[3m\u001b[38;5;246m<chr>\u001b[39m\u001b[23m                                                                         \n",
       "\u001b[38;5;250m1\u001b[39m How are you? Btw thanks for the RT. You gonna be in DC anytime soon? Love to …\n",
       "\u001b[38;5;250m2\u001b[39m When you meet someone special... you'll know. Your heart will beat more rapid…\n",
       "\u001b[38;5;250m3\u001b[39m they've decided its more fun if I don't.                                      "
      ]
     },
     "execution_count": null,
     "metadata": {},
     "output_type": "execute_result"
    }
   ],
   "source": [
    "# Tweets\n",
    "# read_lines flags a warning, but there are no problems reported\n",
    "tweets <- read_lines('data/en_US.twitter.txt') |> tibble(text = _)\n",
    "tweets[1:3,]"
   ]
  },
  {
   "cell_type": "code",
   "execution_count": 81,
   "metadata": {},
   "outputs": [
    {
     "data": {
      "text/plain": [
       "[1] 2360148       1"
      ]
     },
     "execution_count": null,
     "metadata": {},
     "output_type": "execute_result"
    }
   ],
   "source": [
    "tweets |> dim()"
   ]
  },
  {
   "cell_type": "markdown",
   "metadata": {},
   "source": [
    "### Exploratory Data Analysis"
   ]
  },
  {
   "cell_type": "code",
   "execution_count": 83,
   "metadata": {},
   "outputs": [
    {
     "data": {
      "text/plain": [
       "\u001b[38;5;246m# A tibble: 3 × 2\u001b[39m\n",
       "  type   data                    \n",
       "  \u001b[3m\u001b[38;5;246m<chr>\u001b[39m\u001b[23m  \u001b[3m\u001b[38;5;246m<list>\u001b[39m\u001b[23m                  \n",
       "\u001b[38;5;250m1\u001b[39m blogs  \u001b[38;5;246m<tibble [1,010,242 × 1]>\u001b[39m\n",
       "\u001b[38;5;250m2\u001b[39m news   \u001b[38;5;246m<tibble [1,010,242 × 1]>\u001b[39m\n",
       "\u001b[38;5;250m3\u001b[39m tweets \u001b[38;5;246m<tibble [2,360,148 × 1]>\u001b[39m"
      ]
     },
     "execution_count": null,
     "metadata": {},
     "output_type": "execute_result"
    }
   ],
   "source": [
    "df <- tibble(\n",
    "  type = c('blogs','news','tweets'),\n",
    "  data = list(blogs, news, tweets)\n",
    ")\n",
    "df"
   ]
  },
  {
   "cell_type": "code",
   "execution_count": 87,
   "metadata": {},
   "outputs": [
    {
     "data": {
      "text/plain": [
       "[[1]]\n",
       "\u001b[38;5;246m# A tibble: 1,010,242 × 1\u001b[39m\n",
       "   text                                                                         \n",
       "   \u001b[3m\u001b[38;5;246m<chr>\u001b[39m\u001b[23m                                                                        \n",
       "\u001b[38;5;250m 1\u001b[39m \u001b[38;5;246m\"\u001b[39mHe wasn't home alone, apparently.\u001b[38;5;246m\"\u001b[39m                                          \n",
       "\u001b[38;5;250m 2\u001b[39m \u001b[38;5;246m\"\u001b[39mThe St. Louis plant had to close. It would die of old age. Workers had been…\n",
       "\u001b[38;5;250m 3\u001b[39m \u001b[38;5;246m\"\u001b[39mWSU's plans quickly became a hot topic on local online sites. Though most p…\n",
       "\u001b[38;5;250m 4\u001b[39m \u001b[38;5;246m\"\u001b[39mThe Alaimo Group of Mount Holly was up for a contract last fall to evaluate…\n",
       "\u001b[38;5;250m 5\u001b[39m \u001b[38;5;246m\"\u001b[39mAnd when it's often difficult to predict a law's impact, legislators should…\n",
       "\u001b[38;5;250m 6\u001b[39m \u001b[38;5;246m\"\u001b[39mThere was a certain amount of scoffing going around a few years ago when th…\n",
       "\u001b[38;5;250m 7\u001b[39m \u001b[38;5;246m\"\u001b[39m14915 Charlevoix, Detroit\u001b[38;5;246m\"\u001b[39m                                                  \n",
       "\u001b[38;5;250m 8\u001b[39m \u001b[38;5;246m\"\u001b[39m\\\"It’s just another in a long line of failed attempts to subsidize Atlantic…\n",
       "\u001b[38;5;250m 9\u001b[39m \u001b[38;5;246m\"\u001b[39mBut time and again in the report, Sullivan called on CPS to correct problem…\n",
       "\u001b[38;5;250m10\u001b[39m \u001b[38;5;246m\"\u001b[39m\\u0093I was just trying to hit it hard someplace,\\u0094 said Rizzo, who hit…\n",
       "\u001b[38;5;246m# ℹ 1,010,232 more rows\u001b[39m\n",
       "\u001b[38;5;246m# ℹ Use `print(n = ...)` to see more rows\u001b[39m\n",
       "\n",
       "[[2]]\n",
       "\u001b[38;5;246m# A tibble: 1,010,242 × 1\u001b[39m\n",
       "   text                                                                         \n",
       "   \u001b[3m\u001b[38;5;246m<chr>\u001b[39m\u001b[23m                                                                        \n",
       "\u001b[38;5;250m 1\u001b[39m \u001b[38;5;246m\"\u001b[39mHe wasn't home alone, apparently.\u001b[38;5;246m\"\u001b[39m                                          \n",
       "\u001b[38;5;250m 2\u001b[39m \u001b[38;5;246m\"\u001b[39mThe St. Louis plant had to close. It would die of old age. Workers had been…\n",
       "\u001b[38;5;250m 3\u001b[39m \u001b[38;5;246m\"\u001b[39mWSU's plans quickly became a hot topic on local online sites. Though most p…\n",
       "\u001b[38;5;250m 4\u001b[39m \u001b[38;5;246m\"\u001b[39mThe Alaimo Group of Mount Holly was up for a contract last fall to evaluate…\n",
       "\u001b[38;5;250m 5\u001b[39m \u001b[38;5;246m\"\u001b[39mAnd when it's often difficult to predict a law's impact, legislators should…\n",
       "\u001b[38;5;250m 6\u001b[39m \u001b[38;5;246m\"\u001b[39mThere was a certain amount of scoffing going around a few years ago when th…\n",
       "\u001b[38;5;250m 7\u001b[39m \u001b[38;5;246m\"\u001b[39m14915 Charlevoix, Detroit\u001b[38;5;246m\"\u001b[39m                                                  \n",
       "\u001b[38;5;250m 8\u001b[39m \u001b[38;5;246m\"\u001b[39m\\\"It’s just another in a long line of failed attempts to subsidize Atlantic…\n",
       "\u001b[38;5;250m 9\u001b[39m \u001b[38;5;246m\"\u001b[39mBut time and again in the report, Sullivan called on CPS to correct problem…\n",
       "\u001b[38;5;250m10\u001b[39m \u001b[38;5;246m\"\u001b[39m\\u0093I was just trying to hit it hard someplace,\\u0094 said Rizzo, who hit…\n",
       "\u001b[38;5;246m# ℹ 1,010,232 more rows\u001b[39m\n",
       "\u001b[38;5;246m# ℹ Use `print(n = ...)` to see more rows\u001b[39m\n",
       "\n",
       "[[3]]\n",
       "\u001b[38;5;246m# A tibble: 2,360,148 × 1\u001b[39m\n",
       "   text                                                                         \n",
       "   \u001b[3m\u001b[38;5;246m<chr>\u001b[39m\u001b[23m                                                                        \n",
       "\u001b[38;5;250m 1\u001b[39m How are you? Btw thanks for the RT. You gonna be in DC anytime soon? Love to…\n",
       "\u001b[38;5;250m 2\u001b[39m When you meet someone special... you'll know. Your heart will beat more rapi…\n",
       "\u001b[38;5;250m 3\u001b[39m they've decided its more fun if I don't.                                     \n",
       "\u001b[38;5;250m 4\u001b[39m So Tired D; Played Lazer Tag & Ran A LOT D; Ughh Going To Sleep Like In 5 Mi…\n",
       "\u001b[38;5;250m 5\u001b[39m Words from a complete stranger! Made my birthday even better :)              \n",
       "\u001b[38;5;250m 6\u001b[39m First Cubs game ever! Wrigley field is gorgeous. This is perfect. Go Cubs Go!\n",
       "\u001b[38;5;250m 7\u001b[39m i no! i get another day off from skool due to the wonderful snow (: and THIS…\n",
       "\u001b[38;5;250m 8\u001b[39m I'm coo... Jus at work hella tired r u ever in cali                          \n",
       "\u001b[38;5;250m 9\u001b[39m The new sundrop commercial ...hehe love at first sight                       \n",
       "\u001b[38;5;250m10\u001b[39m we need to reconnect THIS WEEK                                               \n",
       "\u001b[38;5;246m# ℹ 2,360,138 more rows\u001b[39m\n",
       "\u001b[38;5;246m# ℹ Use `print(n = ...)` to see more rows\u001b[39m\n"
      ]
     },
     "execution_count": null,
     "metadata": {},
     "output_type": "execute_result"
    }
   ],
   "source": [
    "df |> pull(data)"
   ]
  },
  {
   "cell_type": "code",
   "execution_count": 86,
   "metadata": {},
   "outputs": [
    {
     "ename": "",
     "evalue": "\u001b[1m\u001b[33mError\u001b[39m in `mutate()`:\u001b[22m\n\u001b[1m\u001b[22m\u001b[36mℹ\u001b[39m In argument: `maxLength = max(unlist(data)$text)`.\n\u001b[1mCaused by error in `unlist(data)$text`:\u001b[22m\n\u001b[33m!\u001b[39m $ operator is invalid for atomic vectors",
     "output_type": "error",
     "traceback": [
      "\u001b[1m\u001b[33mError\u001b[39m in `mutate()`:\u001b[22m\n",
      "\u001b[1m\u001b[22m\u001b[36mℹ\u001b[39m In argument: `maxLength = max(unlist(data)$text)`.\n",
      "\u001b[1mCaused by error in `unlist(data)$text`:\u001b[22m\n",
      "\u001b[33m!\u001b[39m $ operator is invalid for atomic vectors\n",
      "\u001b[90m     \u001b[39m▆\n",
      "\u001b[90m  1. \u001b[39m├─\u001b[1mdplyr\u001b[22m::mutate(df, maxLength = max(unlist(data)$text))\n",
      "\u001b[90m  2. \u001b[39m├─\u001b[1m\u001b[94mdplyr:::mutate.data.frame(\u001b[39m\u001b[22mdf, maxLength = max(unlist(data)$text)\u001b[1m\u001b[94m)\u001b[39m\u001b[22m\n",
      "\u001b[90m  3. \u001b[39m│ └─dplyr:::mutate_cols(.data, dplyr_quosures(...), by)\n",
      "\u001b[90m  4. \u001b[39m│   ├─\u001b[1mbase\u001b[22m::withCallingHandlers(...)\n",
      "\u001b[90m  5. \u001b[39m│   └─\u001b[1mdplyr\u001b[22m:::mutate_col(dots[[i]], data, mask, new_columns)\n",
      "\u001b[90m  6. \u001b[39m│     └─mask$eval_all_mutate(quo)\n",
      "\u001b[90m  7. \u001b[39m│       └─\u001b[1mdplyr\u001b[22m (local) eval()\n",
      "\u001b[90m  8. \u001b[39m└─\u001b[1mbase\u001b[22m::.handleSimpleError(...)\n",
      "\u001b[90m  9. \u001b[39m  └─\u001b[1mdplyr\u001b[22m (local) h(simpleError(msg, call))\n",
      "\u001b[90m 10. \u001b[39m    └─\u001b[1mrlang\u001b[22m::abort(message, class = error_class, parent = parent, call = error_call)"
     ]
    }
   ],
   "source": [
    "df |> mutate(\n",
    "  maxLength = max(unlist(data)$text))"
   ]
  },
  {
   "cell_type": "code",
   "execution_count": 62,
   "metadata": {},
   "outputs": [
    {
     "data": {
      "text/plain": [
       "\u001b[38;5;246m# A tibble: 1 × 1\u001b[39m\n",
       "  data                    \n",
       "  \u001b[3m\u001b[38;5;246m<list>\u001b[39m\u001b[23m                  \n",
       "\u001b[38;5;250m1\u001b[39m \u001b[38;5;246m<tibble [1,010,242 × 1]>\u001b[39m"
      ]
     },
     "execution_count": null,
     "metadata": {},
     "output_type": "execute_result"
    }
   ],
   "source": [
    "df[1,2]"
   ]
  }
 ],
 "metadata": {
  "language_info": {
   "name": "r"
  }
 },
 "nbformat": 4,
 "nbformat_minor": 2
}
