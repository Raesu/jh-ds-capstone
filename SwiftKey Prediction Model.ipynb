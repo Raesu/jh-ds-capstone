{
 "cells": [
  {
   "cell_type": "code",
   "execution_count": 6,
   "metadata": {},
   "outputs": [
    {
     "name": "stdout",
     "output_type": "stream",
     "text": [
      "── \u001b[1mAttaching core tidyverse packages\u001b[22m ─────────────────────────────────────────────────────────── tidyverse 2.0.0 ──\n",
      "\u001b[32m✔\u001b[39m \u001b[34mdplyr    \u001b[39m 1.1.4     \u001b[32m✔\u001b[39m \u001b[34mreadr    \u001b[39m 2.1.5\n",
      "\u001b[32m✔\u001b[39m \u001b[34mforcats  \u001b[39m 1.0.0     \u001b[32m✔\u001b[39m \u001b[34mstringr  \u001b[39m 1.5.1\n",
      "\u001b[32m✔\u001b[39m \u001b[34mggplot2  \u001b[39m 3.5.1     \u001b[32m✔\u001b[39m \u001b[34mtibble   \u001b[39m 3.2.1\n",
      "\u001b[32m✔\u001b[39m \u001b[34mlubridate\u001b[39m 1.9.3     \u001b[32m✔\u001b[39m \u001b[34mtidyr    \u001b[39m 1.3.1\n",
      "\u001b[32m✔\u001b[39m \u001b[34mpurrr    \u001b[39m 1.0.2     \n",
      "── \u001b[1mConflicts\u001b[22m ───────────────────────────────────────────────────────────────────────────── tidyverse_conflicts() ──\n",
      "\u001b[31m✖\u001b[39m \u001b[34mdplyr\u001b[39m::\u001b[32mfilter()\u001b[39m masks \u001b[34mstats\u001b[39m::filter()\n",
      "\u001b[31m✖\u001b[39m \u001b[34mdplyr\u001b[39m::\u001b[32mlag()\u001b[39m    masks \u001b[34mstats\u001b[39m::lag()\n",
      "\u001b[36mℹ\u001b[39m Use the \u001b]8;;http://conflicted.r-lib.org/\u0007conflicted package\u001b]8;;\u0007 to force all conflicts to become errors\n"
     ]
    }
   ],
   "source": [
    "library(tidyverse)\n",
    "library(tidytext)"
   ]
  },
  {
   "cell_type": "markdown",
   "metadata": {},
   "source": [
    "### Get and Clean Data"
   ]
  },
  {
   "cell_type": "code",
   "execution_count": 48,
   "metadata": {},
   "outputs": [
    {
     "data": {
      "text/plain": [
       "[1] 205.8119"
      ]
     },
     "execution_count": null,
     "metadata": {},
     "output_type": "execute_result"
    }
   ],
   "source": [
    "# Size in mb\n",
    "file.size('data/en_US.news.txt')/1000/1000"
   ]
  },
  {
   "cell_type": "code",
   "execution_count": 120,
   "metadata": {},
   "outputs": [
    {
     "data": {
      "text/plain": [
       "\u001b[38;5;246m# A tibble: 3 × 1\u001b[39m\n",
       "  text                                                                                                             \n",
       "  \u001b[3m\u001b[38;5;246m<chr>\u001b[39m\u001b[23m                                                                                                            \n",
       "\u001b[38;5;250m1\u001b[39m In the years thereafter, most of the Oil fields and platforms were named after pagan “gods”.                     \n",
       "\u001b[38;5;250m2\u001b[39m We love you Mr. Brown.                                                                                           \n",
       "\u001b[38;5;250m3\u001b[39m Chad has been awesome with the kids and holding down the fort while I work later than usual! The kids have been …"
      ]
     },
     "execution_count": null,
     "metadata": {},
     "output_type": "execute_result"
    }
   ],
   "source": [
    "# Blogs\n",
    "blogs <- read_lines('data/en_US.blogs.txt') |> tibble(text = _)\n",
    "blogs[1:3,]"
   ]
  },
  {
   "cell_type": "code",
   "execution_count": 79,
   "metadata": {},
   "outputs": [
    {
     "data": {
      "text/plain": [
       "\u001b[38;5;246m# A tibble: 3 × 1\u001b[39m\n",
       "  text                                                                          \n",
       "  \u001b[3m\u001b[38;5;246m<chr>\u001b[39m\u001b[23m                                                                         \n",
       "\u001b[38;5;250m1\u001b[39m He wasn't home alone, apparently.                                             \n",
       "\u001b[38;5;250m2\u001b[39m The St. Louis plant had to close. It would die of old age. Workers had been m…\n",
       "\u001b[38;5;250m3\u001b[39m WSU's plans quickly became a hot topic on local online sites. Though most peo…"
      ]
     },
     "execution_count": null,
     "metadata": {},
     "output_type": "execute_result"
    }
   ],
   "source": [
    "# News\n",
    "news <- read_lines('data/en_US.news.txt') |> tibble(text = _)\n",
    "news[1:3,]"
   ]
  },
  {
   "cell_type": "code",
   "execution_count": 80,
   "metadata": {},
   "outputs": [
    {
     "name": "stderr",
     "output_type": "stream",
     "text": [
      "Warning message:\n",
      "\u001b[1m\u001b[22mOne or more parsing issues, call `problems()` on your data frame for details,\n",
      "e.g.:\n",
      "  dat <- vroom(...)\n",
      "  problems(dat) \n"
     ]
    },
    {
     "data": {
      "text/plain": [
       "\u001b[38;5;246m# A tibble: 3 × 1\u001b[39m\n",
       "  text                                                                          \n",
       "  \u001b[3m\u001b[38;5;246m<chr>\u001b[39m\u001b[23m                                                                         \n",
       "\u001b[38;5;250m1\u001b[39m How are you? Btw thanks for the RT. You gonna be in DC anytime soon? Love to …\n",
       "\u001b[38;5;250m2\u001b[39m When you meet someone special... you'll know. Your heart will beat more rapid…\n",
       "\u001b[38;5;250m3\u001b[39m they've decided its more fun if I don't.                                      "
      ]
     },
     "execution_count": null,
     "metadata": {},
     "output_type": "execute_result"
    }
   ],
   "source": [
    "# Tweets\n",
    "# read_lines flags a warning, but there are no problems reported\n",
    "tweets <- read_lines('data/en_US.twitter.txt') |> tibble(text = _)\n",
    "tweets[1:3,]"
   ]
  },
  {
   "cell_type": "code",
   "execution_count": 81,
   "metadata": {},
   "outputs": [
    {
     "data": {
      "text/plain": [
       "[1] 2360148       1"
      ]
     },
     "execution_count": null,
     "metadata": {},
     "output_type": "execute_result"
    }
   ],
   "source": [
    "tweets |> dim()"
   ]
  },
  {
   "cell_type": "markdown",
   "metadata": {},
   "source": [
    "### Exploratory Data Analysis"
   ]
  },
  {
   "cell_type": "code",
   "execution_count": 121,
   "metadata": {},
   "outputs": [
    {
     "data": {
      "text/plain": [
       "\u001b[38;5;246m# A tibble: 3 × 2\u001b[39m\n",
       "  type   data                    \n",
       "  \u001b[3m\u001b[38;5;246m<chr>\u001b[39m\u001b[23m  \u001b[3m\u001b[38;5;246m<list>\u001b[39m\u001b[23m                  \n",
       "\u001b[38;5;250m1\u001b[39m blogs  \u001b[38;5;246m<tibble [899,288 × 1]>\u001b[39m  \n",
       "\u001b[38;5;250m2\u001b[39m news   \u001b[38;5;246m<tibble [1,010,242 × 1]>\u001b[39m\n",
       "\u001b[38;5;250m3\u001b[39m tweets \u001b[38;5;246m<tibble [2,360,148 × 1]>\u001b[39m"
      ]
     },
     "execution_count": null,
     "metadata": {},
     "output_type": "execute_result"
    }
   ],
   "source": [
    "df <- tibble(\n",
    "  type = c('blogs','news','tweets'),\n",
    "  data = list(blogs, news, tweets)\n",
    ")\n",
    "df"
   ]
  },
  {
   "cell_type": "code",
   "execution_count": 122,
   "metadata": {},
   "outputs": [
    {
     "data": {
      "text/plain": [
       "\u001b[38;5;246m# A tibble: 3 × 3\u001b[39m\n",
       "\u001b[38;5;246m# Rowwise: \u001b[39m\n",
       "  type   data                     maxLength\n",
       "  \u001b[3m\u001b[38;5;246m<chr>\u001b[39m\u001b[23m  \u001b[3m\u001b[38;5;246m<list>\u001b[39m\u001b[23m                       \u001b[3m\u001b[38;5;246m<int>\u001b[39m\u001b[23m\n",
       "\u001b[38;5;250m1\u001b[39m blogs  \u001b[38;5;246m<tibble [899,288 × 1]>\u001b[39m       \u001b[4m4\u001b[24m\u001b[4m0\u001b[24m833\n",
       "\u001b[38;5;250m2\u001b[39m news   \u001b[38;5;246m<tibble [1,010,242 × 1]>\u001b[39m     \u001b[4m1\u001b[24m\u001b[4m1\u001b[24m384\n",
       "\u001b[38;5;250m3\u001b[39m tweets \u001b[38;5;246m<tibble [2,360,148 × 1]>\u001b[39m       140"
      ]
     },
     "execution_count": null,
     "metadata": {},
     "output_type": "execute_result"
    }
   ],
   "source": [
    "# Longest document in each corpora\n",
    "df |> rowwise() |>\n",
    "  mutate(maxLength = max(map_int(data$text, str_length)))"
   ]
  },
  {
   "cell_type": "code",
   "execution_count": null,
   "metadata": {},
   "outputs": [],
   "source": []
  },
  {
   "cell_type": "code",
   "execution_count": 62,
   "metadata": {},
   "outputs": [
    {
     "data": {
      "text/plain": [
       "\u001b[38;5;246m# A tibble: 1 × 1\u001b[39m\n",
       "  data                    \n",
       "  \u001b[3m\u001b[38;5;246m<list>\u001b[39m\u001b[23m                  \n",
       "\u001b[38;5;250m1\u001b[39m \u001b[38;5;246m<tibble [1,010,242 × 1]>\u001b[39m"
      ]
     },
     "execution_count": null,
     "metadata": {},
     "output_type": "execute_result"
    }
   ],
   "source": [
    "df[1,2]"
   ]
  }
 ],
 "metadata": {
  "language_info": {
   "name": "r"
  }
 },
 "nbformat": 4,
 "nbformat_minor": 2
}
